{
 "cells": [
  {
   "cell_type": "markdown",
   "id": "04fbdd6b-7bc9-4c29-9eab-a7e975d32c87",
   "metadata": {},
   "source": [
    "# Plotting Climate Data"
   ]
  },
  {
   "cell_type": "markdown",
   "id": "e93f86c0-c0e3-4015-be96-052829d8602d",
   "metadata": {},
   "source": [
    "## What do seasonal temperatures actually look like?"
   ]
  },
  {
   "cell_type": "markdown",
   "id": "7e636554-04a5-4840-8771-46a14ee77bb9",
   "metadata": {},
   "source": [
    "Montrealers love to talk and complain about the weather. When there are vasts amounts of snow, Montrealers want Summer. When there's no snow, they complain that they can't go skiing. My hunch is that people are gnerally confused because, socially, we always refer to average values of temperature, snowfall, etc. We'll explore here if and how looking at averages can skew our understanding of climate."
   ]
  },
  {
   "cell_type": "markdown",
   "id": "ff617699-b316-4802-8af5-8a6ff0463830",
   "metadata": {},
   "source": [
    "You will use historical climate data for a specific weather station in Canada. Data can be downloaded for a number of stations, when available, in the date range spanning 1840-today at the web address http://climatedata.ca/download/"
   ]
  },
  {
   "cell_type": "markdown",
   "id": "eff3a928-e217-4050-9a05-e013a91f8e9b",
   "metadata": {},
   "source": [
    "You can access the website manually, select a station, a date range, a file type, and download the file manually. Following that, you can upload the file to your files on the server and it will be accessible. This **will** be cumbersome. "
   ]
  },
  {
   "cell_type": "markdown",
   "id": "65d5ea1d-2bbb-47b2-befd-6c95622558e7",
   "metadata": {},
   "source": [
    "An easier way is to access the data through the api. Indeed, you can form the correct URL that will return the following data:\n",
    "* station ID: 7086716 (Rouyn)\n",
    "* Start date: Jan 1st 2020\n",
    "* End date:   Dec 31st 2020\n",
    "* File format: CSV\n",
    "\n",
    "Look at the URL, saved as a string, in the climateDataURL variable. Can you identify the different parts that set that data?"
   ]
  },
  {
   "cell_type": "code",
   "execution_count": 89,
   "id": "12dde926-ca94-4de2-85fe-7d5b47f6e858",
   "metadata": {},
   "outputs": [
    {
     "name": "stdout",
     "output_type": "stream",
     "text": [
      "climateDataURL = https://api.weather.gc.ca/collections/climate-daily/items?datetime=2020-01-01%2000:00:00/2020-12-31%2000:00:00&STN_ID=10849&sortby=PROVINCE_CODE,STN_ID,LOCAL_DATE&f=csv&limit=150000&startindex=0\n"
     ]
    }
   ],
   "source": [
    "climateDataURL = 'https://api.weather.gc.ca/collections/climate-daily/items?datetime=2020-01-01%2000:00:00/2020-12-31%2000:00:00&STN_ID=10849&sortby=PROVINCE_CODE,STN_ID,LOCAL_DATE&f=csv&limit=150000&startindex=0'"
   ]
  },
  {
   "cell_type": "markdown",
   "id": "209a0c7e-d609-4d52-a038-e4743e529417",
   "metadata": {},
   "source": [
    "Now, we'll use the 'urlread()' function that reads the url and returns as a string. In this case, the string is a CSV file that we can store in the 'data' variable. (Remove the ; character to see what you actually downloaded. Be ready to scroll a bit.)"
   ]
  },
  {
   "cell_type": "code",
   "execution_count": 90,
   "id": "8386a81b-426e-452e-960d-79ba2fdfb097",
   "metadata": {},
   "outputs": [],
   "source": [
    "data = urlread(climateDataURL);"
   ]
  },
  {
   "cell_type": "markdown",
   "id": "9753dc17-5fb7-4495-beaf-132b333fa122",
   "metadata": {},
   "source": [
    "We can store the csv (from the 'data' variable) in a file. First choose a file name."
   ]
  },
  {
   "cell_type": "code",
   "execution_count": 91,
   "id": "b802077c-c509-4af7-a9e9-cf22b485fca7",
   "metadata": {},
   "outputs": [
    {
     "name": "stdout",
     "output_type": "stream",
     "text": [
      "CSVFileName = Rouyn-test-data-2020.csv\n"
     ]
    }
   ],
   "source": [
    "CSVFileName = 'Rouyn-test-data-2020.csv'"
   ]
  },
  {
   "cell_type": "markdown",
   "id": "53d1e74a-1693-4ced-93de-4a16dd0c6824",
   "metadata": {},
   "source": [
    "Open the file."
   ]
  },
  {
   "cell_type": "code",
   "execution_count": 92,
   "id": "ef423674-fe5b-48f2-85a7-cbcd066aa538",
   "metadata": {},
   "outputs": [
    {
     "name": "stdout",
     "output_type": "stream",
     "text": [
      "fid = 6\n"
     ]
    }
   ],
   "source": [
    "fid = fopen(CSVFileName,'w')"
   ]
  },
  {
   "cell_type": "code",
   "execution_count": 93,
   "id": "7110f812-bead-406a-9d65-14674bfd8c54",
   "metadata": {},
   "outputs": [
    {
     "name": "stdout",
     "output_type": "stream",
     "text": [
      "ans = 0\n"
     ]
    }
   ],
   "source": [
    "fprintf(fid,'%s',data)\n",
    "fclose(fid)"
   ]
  },
  {
   "cell_type": "markdown",
   "id": "0795f5f7-ffc2-4c0e-baa5-180d7ba6778b",
   "metadata": {},
   "source": [
    "We can use the dlmread() function to read the contents of the csv file we just saved. (I'm using a previously saved version here. There's also surely a way that doesn't involve storing the file to the disk first.)"
   ]
  },
  {
   "cell_type": "code",
   "execution_count": 94,
   "id": "4bd436f6-7c9b-4bfc-871b-a10897dd923c",
   "metadata": {},
   "outputs": [],
   "source": [
    "data2020 = dlmread('RefData/Rouyn-test-data-2020.csv',',',1,0);"
   ]
  },
  {
   "cell_type": "markdown",
   "id": "38ac6a61-8733-46f1-a797-5538fd9b0ef2",
   "metadata": {},
   "source": [
    "A CSV file is basically a very simple version of an excel spreadsheet. We'll extract the different columns of interest. In this case:\n",
    "* day\n",
    "* month\n",
    "* year\n",
    "* max Temperature of the day\n",
    "* min Temperature of the day"
   ]
  },
  {
   "cell_type": "code",
   "execution_count": 95,
   "id": "98903577-d9b7-4d5d-b4f7-3af1959b7861",
   "metadata": {},
   "outputs": [],
   "source": [
    "day = data2020(:,12);\n",
    "month = data2020(:,19);\n",
    "year  = data2020(:,18);\n",
    "maxT2020 = data2020(:,4);\n",
    "minT2020 = data2020(:,9);"
   ]
  },
  {
   "cell_type": "markdown",
   "id": "2b810581-f381-45fe-9824-181f2c541092",
   "metadata": {},
   "source": [
    "We use the function datenum() to convert the day, month, year information to a serial day, i.e. the number of days elapsed from January 1st 0000. (See this webpage for a summary of the time functions https://wiki.octave.org/Date/Time_functions.)"
   ]
  },
  {
   "cell_type": "code",
   "execution_count": 96,
   "id": "570619d4-4314-44f9-888d-18cc80bc1472",
   "metadata": {},
   "outputs": [],
   "source": [
    "serialday2020 = datenum(year,month,day);"
   ]
  },
  {
   "cell_type": "markdown",
   "id": "2675167c-50a4-4fe9-b259-e5bbaf5d8e64",
   "metadata": {},
   "source": [
    "Finally, we plot the daily max temperature (in red) and the daily min temperature (in blue) for the whole year 2020."
   ]
  },
  {
   "cell_type": "code",
   "execution_count": 97,
   "id": "076df998-7071-4e90-a154-1583a0c642d0",
   "metadata": {},
   "outputs": [
    {
     "data": {
      "image/png": "[encoded data removed]",
      "text/plain": [
       "<IPython.core.display.Image object>"
      ]
     },
     "metadata": {},
     "output_type": "display_data"
    }
   ],
   "source": [
    "plot(serialday2020,maxT2020,'r-',serialday,minT2020,'b-')"
   ]
  },
  {
   "cell_type": "markdown",
   "id": "78ea2aa3-678a-43b9-8ce0-947ca1ac875c",
   "metadata": {},
   "source": [
    "Let's compare the year 2020 to the year 2000. *(It would be much easier if we'd created a function to fetch and extract the data instead of retyping everything here. Imagine if we tried to do this for 100 years!)*"
   ]
  },
  {
   "cell_type": "code",
   "execution_count": 98,
   "id": "08291a09-b84d-4a92-a436-6c08b813d1b1",
   "metadata": {},
   "outputs": [
    {
     "name": "stdout",
     "output_type": "stream",
     "text": [
      "climateDataURL = https://api.weather.gc.ca/collections/climate-daily/items?datetime=2000-01-01%2000:00:00/2000-12-31%2000:00:00&STN_ID=10849&sortby=PROVINCE_CODE,STN_ID,LOCAL_DATE&f=csv&limit=150000&startindex=0\n"
     ]
    }
   ],
   "source": [
    "climateDataURL = 'https://api.weather.gc.ca/collections/climate-daily/items?datetime=2000-01-01%2000:00:00/2000-12-31%2000:00:00&STN_ID=10849&sortby=PROVINCE_CODE,STN_ID,LOCAL_DATE&f=csv&limit=150000&startindex=0'"
   ]
  },
  {
   "cell_type": "code",
   "execution_count": 99,
   "id": "b9c45342-ec74-4d63-b6e3-72a4df7324c2",
   "metadata": {},
   "outputs": [],
   "source": [
    "data = urlread(climateDataURL);"
   ]
  },
  {
   "cell_type": "code",
   "execution_count": 100,
   "id": "70b1d7b9-fcb1-4471-a100-d71be70e83b0",
   "metadata": {},
   "outputs": [
    {
     "name": "stdout",
     "output_type": "stream",
     "text": [
      "CSVFileName = Rouyn-test-data-2000.csv\n"
     ]
    }
   ],
   "source": [
    "CSVFileName = 'Rouyn-test-data-2000.csv'"
   ]
  },
  {
   "cell_type": "code",
   "execution_count": 101,
   "id": "158a8cd3-75ca-478e-8efb-d678cf3b0737",
   "metadata": {},
   "outputs": [
    {
     "name": "stdout",
     "output_type": "stream",
     "text": [
      "fid = 6\n"
     ]
    }
   ],
   "source": [
    "fid = fopen(CSVFileName,'w')"
   ]
  },
  {
   "cell_type": "code",
   "execution_count": 102,
   "id": "f1faf3fa-90ea-4d58-bccc-225561511981",
   "metadata": {},
   "outputs": [
    {
     "name": "stdout",
     "output_type": "stream",
     "text": [
      "ans = 0\n"
     ]
    }
   ],
   "source": [
    "fprintf(fid,'%s',data)\n",
    "fclose(fid)"
   ]
  },
  {
   "cell_type": "code",
   "execution_count": 103,
   "id": "e7394e56-0fe3-4db3-a8b4-4d9263527fb3",
   "metadata": {},
   "outputs": [],
   "source": [
    "data2000 = dlmread('RefData/Rouyn-test-data-2000.csv',',',1,0);"
   ]
  },
  {
   "cell_type": "code",
   "execution_count": 104,
   "id": "321d2b30-1478-4da3-8cb0-8e38ae4617ed",
   "metadata": {},
   "outputs": [],
   "source": [
    "day = data2000(:,36);\n",
    "month = data2000(:,11);\n",
    "year  = data2000(:,19);\n",
    "maxT2000 = data2000(:,9);\n",
    "minT2000 = data2000(:,4);\n",
    "serialday2000 = datenum(year, month, day);"
   ]
  },
  {
   "cell_type": "markdown",
   "id": "ba7f90f5-5971-4bf2-a9e9-d15fb9e89a34",
   "metadata": {},
   "source": [
    "Let's now plot both the year 2000 and 2020 together."
   ]
  },
  {
   "cell_type": "code",
   "execution_count": 105,
   "id": "ae71e0c8-e0d5-4674-9941-533614748283",
   "metadata": {},
   "outputs": [
    {
     "data": {
      "image/png": "[encoded data removed]",
      "text/plain": [
       "<IPython.core.display.Image object>"
      ]
     },
     "metadata": {},
     "output_type": "display_data"
    }
   ],
   "source": [
    "plot(serialday2000,maxT2000,'r-',serialday2000,minT2000,'b-',serialday2020,maxT2020,'r-',serialday2020,minT2020,'b-')"
   ]
  },
  {
   "cell_type": "markdown",
   "id": "3aa0d174-9f24-4510-a764-119e20a2f00a",
   "metadata": {},
   "source": [
    "This isn't quite what we want, however. What we want is to have both years on top of each other. We'll plot the days since Jan 1st in a given year. This way, both years will overlap, which is really what we want to be able to tell the difference between the two years."
   ]
  },
  {
   "cell_type": "code",
   "execution_count": 106,
   "id": "c3054938-f36d-47ca-a514-8739792efd51",
   "metadata": {},
   "outputs": [
    {
     "data": {
      "image/png": "[encoded data removed]",
      "text/plain": [
       "<IPython.core.display.Image object>"
      ]
     },
     "metadata": {},
     "output_type": "display_data"
    }
   ],
   "source": [
    "plot(serialday2000-serialday2000(1),maxT2000,'r-',serialday2000-serialday2000(1),minT2000,'b-',serialday2020-serialday2020(1),maxT2020,'r-',serialday2020-serialday2020(1),minT2020,'b-')"
   ]
  },
  {
   "cell_type": "markdown",
   "id": "fed571f7-1d68-463c-8799-107b4ab3ad46",
   "metadata": {},
   "source": [
    "This plot is not very legible. Let's look at just the daily highs first. We'll plot  as dots so we can start to see some kind of outline or envelope of possible temperatures for any given day."
   ]
  },
  {
   "cell_type": "code",
   "execution_count": 107,
   "id": "6aec7a36-6d4e-4753-b7ec-65597532364d",
   "metadata": {},
   "outputs": [
    {
     "data": {
      "image/png": "[encoded data removed]",
      "text/plain": [
       "<IPython.core.display.Image object>"
      ]
     },
     "metadata": {},
     "output_type": "display_data"
    }
   ],
   "source": [
    "plot(serialday2000-serialday2000(1),maxT2000,'r.',serialday2020-serialday2020(1),maxT2020,'r.')"
   ]
  },
  {
   "cell_type": "markdown",
   "id": "cb068dbb-f754-4636-9d4e-b6a72891ca62",
   "metadata": {},
   "source": [
    "And now for the daily low temperatures."
   ]
  },
  {
   "cell_type": "code",
   "execution_count": 108,
   "id": "85aa882b-8a31-4b43-95ca-c61d262ba1ce",
   "metadata": {},
   "outputs": [
    {
     "data": {
      "image/png": "[encoded data removed]",
      "text/plain": [
       "<IPython.core.display.Image object>"
      ]
     },
     "metadata": {},
     "output_type": "display_data"
    }
   ],
   "source": [
    "plot(serialday2000-serialday2000(1),minT2000,'b.',serialday2020-serialday2020(1),minT2020,'b.')"
   ]
  },
  {
   "cell_type": "markdown",
   "id": "f513f7a4-5f4c-41ff-9491-cf37b4ab3dde",
   "metadata": {},
   "source": [
    "We're starting to see an envelope emerge of, statistically, what temperatures could occur on a given day. Could we now do this for a lot more years? What we're interested in is to see the variation of temperatures, historically, throughout seasons, but move away from looking at just the average temperature. We want to see what is statistically likely to happen."
   ]
  },
  {
   "cell_type": "markdown",
   "id": "237be4e2-b348-4bad-809b-ede0b2716b28",
   "metadata": {},
   "source": [
    "**Question 1**: Look at the data extraction. The column numbers changed between the years 2000 and 2020 for the same data station and the same API call. Either:\n",
    "* there's something we didn't do correctly when using the API (user error);\n",
    "* there's something substandard about the data itself (poor data quality, non uniform structure);\n",
    "* or the API itself is ill-formed and doesn't guarantee the data structure when it is called.\n",
    "\n",
    "Can you figure out which the problem is? Do you know of a way to fix it? Maybe using the (more complicated) geoJSON file type would help."
   ]
  },
  {
   "cell_type": "markdown",
   "id": "6681f1fb-e9f6-4e21-94cf-c408896ff3cd",
   "metadata": {},
   "source": [
    "**Question 2**: I consistently plotted the high temperatures in red and the low temperatures in blue, even when there was only one type of temperature in a given plot. Why do you think that is? What is the advantage of using such a colour scheme?"
   ]
  },
  {
   "cell_type": "markdown",
   "id": "e1bfebfb-6434-402c-97ca-77008b5f6b07",
   "metadata": {},
   "source": [
    "**Question 3**: Create a function that downloads historical climate data for a given station, treats the data so it's useful and returns only what we want, in this case the daily highs and lows."
   ]
  },
  {
   "cell_type": "markdown",
   "id": "5c8ade80-78ba-4df6-9146-b39ad9e8501b",
   "metadata": {},
   "source": [
    "**Question 4**: Using your function, plot the envelope of possible high/low temperatures throughout the year for your favourite place in Canada. Add all the plotting elements that you think should be there so the plot is as clear, precise and legible as possible."
   ]
  },
  {
   "cell_type": "markdown",
   "id": "301cec55-6713-41e6-9d93-614297c7bf04",
   "metadata": {},
   "source": [
    "## **Bonus Questions**"
   ]
  },
  {
   "cell_type": "markdown",
   "id": "d43d2c3c-012a-48d8-a072-73a5a434c455",
   "metadata": {},
   "source": [
    "**Bonus 1**: Can you find the daily average temperature (the average of a day over several years, not the day's mean temperature) and compare it to the envelopes you computed. How misleading is it to look at the average temperature of a day to have an idea of how hot/cold a day should be. Do you think it makes sense for meteorologists on TV/radio programs to keep saying \"We are expecting a high that's x degrees above/below the normal average today.\" Is it useful? How do you think that influences people's moods?"
   ]
  },
  {
   "cell_type": "markdown",
   "id": "8b7bf3d1-f8b2-4769-ba3d-2a57b38a7700",
   "metadata": {},
   "source": [
    "**Bonus 2**: If you use all temperatures for a number of years, you are plotting the envelope of all the temperatures that occurred. What would be a better, statistically significant metric? How would you compute the envelope of the temperatures that would occur 95% of the time on a given day? What statistical tool /test could you use?"
   ]
  },
  {
   "cell_type": "markdown",
   "id": "247b2d19-d106-4163-8f71-d084a9be1307",
   "metadata": {},
   "source": [
    "**Bonus 3**: Using your answer from the *bonus 2* question, can you plot the 95% likelihood interval?"
   ]
  },
  {
   "cell_type": "markdown",
   "id": "172cdc81-2c5d-4319-a1bd-a589b3fcddf5",
   "metadata": {},
   "source": [
    "### End of Assignment"
   ]
  },
  {
   "cell_type": "code",
   "execution_count": null,
   "id": "84816cbf-eafc-4a44-b999-78d678030e62",
   "metadata": {},
   "outputs": [],
   "source": []
  }
 ],
 "metadata": {
  "kernelspec": {
   "display_name": "Octave",
   "language": "octave",
   "name": "octave"
  },
  "language_info": {
   "file_extension": ".m",
   "help_links": [
    {
     "text": "GNU Octave",
     "url": "https://www.gnu.org/software/octave/support.html"
    },
    {
     "text": "Octave Kernel",
     "url": "https://github.com/Calysto/octave_kernel"
    },
    {
     "text": "MetaKernel Magics",
     "url": "https://metakernel.readthedocs.io/en/latest/source/README.html"
    }
   ],
   "mimetype": "text/x-octave",
   "name": "octave",
   "version": "8.2.0"
  }
 },
 "nbformat": 4,
 "nbformat_minor": 5
}
