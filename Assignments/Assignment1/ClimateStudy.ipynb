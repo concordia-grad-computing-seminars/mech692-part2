{
 "cells": [
  {
   "cell_type": "markdown",
   "id": "04fbdd6b-7bc9-4c29-9eab-a7e975d32c87",
   "metadata": {},
   "source": [
    "# Plotting Climate Data"
   ]
  },
  {
   "cell_type": "markdown",
   "id": "e93f86c0-c0e3-4015-be96-052829d8602d",
   "metadata": {},
   "source": [
    "## What do seasonal temperatures actually look like?"
   ]
  },
  {
   "cell_type": "markdown",
   "id": "7e636554-04a5-4840-8771-46a14ee77bb9",
   "metadata": {},
   "source": [
    "Montrealers love to talk and complain about the weather. When there are vasts amounts of snow, Montrealers want Summer. When there's no snow, they complain that they can't go skiing. My hunch is that people are gnerally confused because, socially, we always refer to average values of temperature, snowfall, etc. We'll explore here if and how looking at averages can skew our understanding of climate."
   ]
  },
  {
   "cell_type": "markdown",
   "id": "ff617699-b316-4802-8af5-8a6ff0463830",
   "metadata": {},
   "source": [
    "You will use historical climate data for a specific weather station in Canada. Data can be downloaded for a number of stations, when available, in the date range spanning 1840-today at the web address http://climatedata.ca/download/"
   ]
  },
  {
   "cell_type": "markdown",
   "id": "eff3a928-e217-4050-9a05-e013a91f8e9b",
   "metadata": {},
   "source": [
    "You can access the website manually, select a station, a date range, a file type, and download the file manually. Following that, you can upload the file to your files on the server and it will be accessible. This **will** be cumbersome. "
   ]
  },
  {
   "cell_type": "markdown",
   "id": "65d5ea1d-2bbb-47b2-befd-6c95622558e7",
   "metadata": {},
   "source": [
    "An easier way is to access the data through the api. Indeed, you can form the correct URL that will return the following data:\n",
    "* station ID: 7086716 (Rouyn)\n",
    "* Start date: Jan 1st 2020\n",
    "* End date:   Dec 31st 2020\n",
    "* File format: CSV\n",
    "\n",
    "Look at the URL, saved as a string, in the climateDataURL variable. Can you identify the different parts that set that data?"
   ]
  },
  {
   "cell_type": "code",
   "execution_count": 2,
   "id": "7e8b5332-17ab-496b-a57d-137ca4ad649d",
   "metadata": {
    "tags": []
   },
   "outputs": [
    {
     "name": "stdout",
     "output_type": "stream",
     "text": [
      "climateDataURL = https://api.weather.gc.ca/collections/climate-daily/items?datetime=2020-01-01%2000:00:00/2020-12-31%2000:00:00&STN_ID=10849&sortby=PROVINCE_CODE,STN_ID,LOCAL_DATE&f=csv&limit=150000&startindex=0\n"
     ]
    }
   ],
   "source": [
    "climateDataURL = 'https://api.weather.gc.ca/collections/climate-daily/items?datetime=2020-01-01%2000:00:00/2020-12-31%2000:00:00&STN_ID=10849&sortby=PROVINCE_CODE,STN_ID,LOCAL_DATE&f=csv&limit=150000&startindex=0'"
   ]
  },
  {
   "cell_type": "markdown",
   "id": "174694c2-bf0f-427f-8e6a-cc49bde11cdc",
   "metadata": {
    "tags": []
   },
   "source": [
    "**Note:** If you use the URL this way, though, you will get all data available, but in a random order, which makes processing difficult later on. If we add the section '&properties=LOCAL_DAY,LOCAL_MONTH,LOCAL_YEAR,MIN_TEMPERATURE,MAX_TEMPERATURE' to the URL, you will get (for this example) the number of the day (1,2,3,4,5,6,...), the number of the month (1 = January, 2 = February, etc), the year, the day's minimum temperature and the day's maximum temperature. (We thought you also received that data in the same order every time, but that may not actually be the case.) The full information is here: https://api.weather.gc.ca/openapi?f=html#/climate-hourly/getClimate-hourlyFeatures\n",
    "\n",
    "***Let's redefine the URL with that functionality.***"
   ]
  },
  {
   "cell_type": "code",
   "execution_count": 3,
   "id": "1c09b46a-8cd8-4d78-bdac-b56cc94dcc5a",
   "metadata": {
    "tags": []
   },
   "outputs": [
    {
     "name": "stdout",
     "output_type": "stream",
     "text": [
      "climateDataURL = https://api.weather.gc.ca/collections/climate-daily/items?datetime=2020-01-01%2000:00:00/2020-12-31%2000:00:00&STN_ID=10849&sortby=PROVINCE_CODE,STN_ID,LOCAL_DATE&properties=LOCAL_DATE,LOCAL_DAY,LOCAL_MONTH,LOCAL_YEAR,MIN_TEMPERATURE,MAX_TEMPERATURE&f=csv&limit=150000&startindex=0\n"
     ]
    }
   ],
   "source": [
    "climateDataURL = 'https://api.weather.gc.ca/collections/climate-daily/items?datetime=2020-01-01%2000:00:00/2020-12-31%2000:00:00&STN_ID=10849&sortby=PROVINCE_CODE,STN_ID,LOCAL_DATE&properties=LOCAL_DATE,LOCAL_DAY,LOCAL_MONTH,LOCAL_YEAR,MIN_TEMPERATURE,MAX_TEMPERATURE&f=csv&limit=150000&startindex=0'"
   ]
  },
  {
   "cell_type": "markdown",
   "id": "209a0c7e-d609-4d52-a038-e4743e529417",
   "metadata": {},
   "source": [
    "Now, we'll use the 'urlread()' function that reads the url and returns as a string. In this case, the string is a CSV file that we can store in the 'data' variable. (Remove the ; character to see what you actually downloaded. Be ready to scroll a bit.)"
   ]
  },
  {
   "cell_type": "code",
   "execution_count": 4,
   "id": "20147208-c6a6-4ce7-9673-23350e52763b",
   "metadata": {},
   "outputs": [],
   "source": [
    "data = urlread(climateDataURL);"
   ]
  },
  {
   "cell_type": "markdown",
   "id": "67c1b9e3-c717-472e-8cef-b152716d4e60",
   "metadata": {},
   "source": [
    "**Note**: Because the ordering is never constant, we have to find the headers. This is kind of complicated, but the following cell shows you how to do it and creates a ready-made function for you that takes the original CSV data from the website and returns the indices of interest."
   ]
  },
  {
   "cell_type": "code",
   "execution_count": 5,
   "id": "2817efab-dbed-4e34-853a-12f6e8d57075",
   "metadata": {},
   "outputs": [
    {
     "name": "stdout",
     "output_type": "stream",
     "text": [
      "day_ind = 3\n",
      "month_ind = 5\n",
      "year_ind = 6\n",
      "minT_ind = 8\n",
      "maxT_ind = 7\n"
     ]
    }
   ],
   "source": [
    "function [day_ind,month_ind,year_ind,minT_ind,maxT_ind] = extract_header_indices(data)\n",
    "  idx = index(data,\"\\n\");              %find the first new line character to know where the header line ends.\n",
    "  headerline = strtrunc(data,idx);     %extract the line of header from the data.\n",
    "  [headers] = textscan(headerline,'%s','delimiter',',');  %extract each header individually. Stored in a cell array.\n",
    "  n_headers = length(headers{1});      %count the number of headers.\n",
    "  for i = 1:n_headers                  % cycle through each header\n",
    "    switch headers{1}{i}                  % check the header name\n",
    "      case \"MAX_TEMPERATURE\"                 %  assign the header position to the correct index variable depending\n",
    "         maxT_ind = i;                       %  on the header name\n",
    "      case \"MIN_TEMPERATURE\"\n",
    "         minT_ind = i;\n",
    "      case \"LOCAL_DAY\"\n",
    "         day_ind  = i;\n",
    "      case \"LOCAL_MONTH\"\n",
    "         month_ind  = i;\n",
    "      case \"LOCAL_YEAR\"\n",
    "         year_ind = i;\n",
    "    end\n",
    "  end\n",
    "end\n",
    "[day_ind,month_ind,year_ind,minT_ind,maxT_ind] = extract_header_indices(data)"
   ]
  },
  {
   "cell_type": "markdown",
   "id": "9753dc17-5fb7-4495-beaf-132b333fa122",
   "metadata": {},
   "source": [
    "We can store the csv (from the 'data' variable) in a file. First choose a file name."
   ]
  },
  {
   "cell_type": "code",
   "execution_count": 6,
   "id": "b802077c-c509-4af7-a9e9-cf22b485fca7",
   "metadata": {},
   "outputs": [
    {
     "name": "stdout",
     "output_type": "stream",
     "text": [
      "CSVFileName = Rouyn-test-data-2020.csv\n"
     ]
    }
   ],
   "source": [
    "CSVFileName = 'Rouyn-test-data-2020.csv'"
   ]
  },
  {
   "cell_type": "markdown",
   "id": "53d1e74a-1693-4ced-93de-4a16dd0c6824",
   "metadata": {},
   "source": [
    "Open the file."
   ]
  },
  {
   "cell_type": "code",
   "execution_count": 7,
   "id": "ef423674-fe5b-48f2-85a7-cbcd066aa538",
   "metadata": {},
   "outputs": [
    {
     "name": "stdout",
     "output_type": "stream",
     "text": [
      "fid = 4\n"
     ]
    }
   ],
   "source": [
    "fid = fopen(CSVFileName,'w')"
   ]
  },
  {
   "cell_type": "code",
   "execution_count": 8,
   "id": "7110f812-bead-406a-9d65-14674bfd8c54",
   "metadata": {},
   "outputs": [
    {
     "name": "stdout",
     "output_type": "stream",
     "text": [
      "ans = 0\n"
     ]
    }
   ],
   "source": [
    "fprintf(fid,'%s',data)\n",
    "fclose(fid)"
   ]
  },
  {
   "cell_type": "markdown",
   "id": "0795f5f7-ffc2-4c0e-baa5-180d7ba6778b",
   "metadata": {},
   "source": [
    "We can use the dlmread() function to read the contents of the csv file we just saved. (I'm using a previously saved version here. There's also surely a way that doesn't involve storing the file to the disk first.)"
   ]
  },
  {
   "cell_type": "code",
   "execution_count": 9,
   "id": "4bd436f6-7c9b-4bfc-871b-a10897dd923c",
   "metadata": {},
   "outputs": [],
   "source": [
    "data2020 = dlmread('Rouyn-test-data-2020.csv',',',1,0);"
   ]
  },
  {
   "cell_type": "markdown",
   "id": "38ac6a61-8733-46f1-a797-5538fd9b0ef2",
   "metadata": {},
   "source": [
    "A CSV file is basically a very simple version of an excel spreadsheet. We'll extract the different columns of interest. In this case:\n",
    "* day\n",
    "* month\n",
    "* year\n",
    "* max Temperature of the day\n",
    "* min Temperature of the day\n",
    "\n",
    "We use the previously identified indices to extract the correct data."
   ]
  },
  {
   "cell_type": "code",
   "execution_count": 10,
   "id": "98903577-d9b7-4d5d-b4f7-3af1959b7861",
   "metadata": {},
   "outputs": [],
   "source": [
    "day = data2020(:,day_ind);\n",
    "month = data2020(:,month_ind);\n",
    "year  = data2020(:,year_ind);\n",
    "minT2020 = data2020(:,minT_ind);\n",
    "maxT2020 = data2020(:,maxT_ind);"
   ]
  },
  {
   "cell_type": "markdown",
   "id": "2b810581-f381-45fe-9824-181f2c541092",
   "metadata": {},
   "source": [
    "We use the function datenum() to convert the day, month, year information to a serial day, i.e. the number of days elapsed from January 1st 0000. (See this webpage for a summary of the time functions https://wiki.octave.org/Date/Time_functions.)"
   ]
  },
  {
   "cell_type": "code",
   "execution_count": 11,
   "id": "570619d4-4314-44f9-888d-18cc80bc1472",
   "metadata": {},
   "outputs": [],
   "source": [
    "serialday2020 = datenum(year,month,day);"
   ]
  },
  {
   "cell_type": "markdown",
   "id": "2675167c-50a4-4fe9-b259-e5bbaf5d8e64",
   "metadata": {},
   "source": [
    "Finally, we plot the daily max temperature (in red) and the daily min temperature (in blue) for the whole year 2020."
   ]
  },
  {
   "cell_type": "code",
   "execution_count": 12,
   "id": "076df998-7071-4e90-a154-1583a0c642d0",
   "metadata": {},
   "outputs": [
    {
     "data": {
      "image/png": "[encoded data removed]",
      "text/plain": [
       "<IPython.core.display.Image object>"
      ]
     },
     "metadata": {},
     "output_type": "display_data"
    }
   ],
   "source": [
    "plot(serialday2020,maxT2020,'r-',serialday2020,minT2020,'b-')"
   ]
  },
  {
   "cell_type": "markdown",
   "id": "78ea2aa3-678a-43b9-8ce0-947ca1ac875c",
   "metadata": {},
   "source": [
    "Let's compare the year 2020 to the year 2000. *(It would be much easier if we'd created a function to fetch and extract the data instead of retyping everything here. Imagine if we tried to do this for 100 years!)*"
   ]
  },
  {
   "cell_type": "code",
   "execution_count": 13,
   "id": "08291a09-b84d-4a92-a436-6c08b813d1b1",
   "metadata": {},
   "outputs": [
    {
     "name": "stdout",
     "output_type": "stream",
     "text": [
      "climateDataURL = https://api.weather.gc.ca/collections/climate-daily/items?datetime=2000-01-01%2000:00:00/2000-12-31%2000:00:00&STN_ID=10849&sortby=PROVINCE_CODE,STN_ID,LOCAL_DATE&f=csv&limit=150000&startindex=0\n"
     ]
    }
   ],
   "source": [
    "climateDataURL = 'https://api.weather.gc.ca/collections/climate-daily/items?datetime=2000-01-01%2000:00:00/2000-12-31%2000:00:00&STN_ID=10849&sortby=PROVINCE_CODE,STN_ID,LOCAL_DATE&f=csv&limit=150000&startindex=0'"
   ]
  },
  {
   "cell_type": "code",
   "execution_count": 14,
   "id": "b9c45342-ec74-4d63-b6e3-72a4df7324c2",
   "metadata": {},
   "outputs": [],
   "source": [
    "data = urlread(climateDataURL);"
   ]
  },
  {
   "cell_type": "code",
   "execution_count": 15,
   "id": "70b1d7b9-fcb1-4471-a100-d71be70e83b0",
   "metadata": {},
   "outputs": [
    {
     "name": "stdout",
     "output_type": "stream",
     "text": [
      "CSVFileName = Rouyn-test-data-2000.csv\n"
     ]
    }
   ],
   "source": [
    "CSVFileName = 'Rouyn-test-data-2000.csv'"
   ]
  },
  {
   "cell_type": "code",
   "execution_count": 16,
   "id": "158a8cd3-75ca-478e-8efb-d678cf3b0737",
   "metadata": {},
   "outputs": [
    {
     "name": "stdout",
     "output_type": "stream",
     "text": [
      "fid = 5\n"
     ]
    }
   ],
   "source": [
    "fid = fopen(CSVFileName,'w')"
   ]
  },
  {
   "cell_type": "code",
   "execution_count": 17,
   "id": "f1faf3fa-90ea-4d58-bccc-225561511981",
   "metadata": {},
   "outputs": [
    {
     "name": "stdout",
     "output_type": "stream",
     "text": [
      "ans = 0\n"
     ]
    }
   ],
   "source": [
    "fprintf(fid,'%s',data)\n",
    "fclose(fid)"
   ]
  },
  {
   "cell_type": "code",
   "execution_count": 18,
   "id": "e7394e56-0fe3-4db3-a8b4-4d9263527fb3",
   "metadata": {},
   "outputs": [],
   "source": [
    "data2000 = dlmread('Rouyn-test-data-2000.csv',',',1,0);"
   ]
  },
  {
   "cell_type": "code",
   "execution_count": 19,
   "id": "321d2b30-1478-4da3-8cb0-8e38ae4617ed",
   "metadata": {},
   "outputs": [
    {
     "name": "stdout",
     "output_type": "stream",
     "text": [
      "day_ind = 13\n",
      "month_ind = 17\n",
      "year_ind = 28\n",
      "minT_ind = 36\n",
      "maxT_ind = 21\n"
     ]
    }
   ],
   "source": [
    "[day_ind,month_ind,year_ind,minT_ind,maxT_ind] = extract_header_indices(data)\n",
    "day = data2000(:,day_ind);\n",
    "month = data2000(:,month_ind);\n",
    "year  = data2000(:,year_ind);\n",
    "maxT2000 = data2000(:,maxT_ind);\n",
    "minT2000 = data2000(:,minT_ind);\n",
    "serialday2000 = datenum(year, month, day);"
   ]
  },
  {
   "cell_type": "markdown",
   "id": "ba7f90f5-5971-4bf2-a9e9-d15fb9e89a34",
   "metadata": {},
   "source": [
    "Let's now plot both the year 2000 and 2020 together."
   ]
  },
  {
   "cell_type": "code",
   "execution_count": 20,
   "id": "ae71e0c8-e0d5-4674-9941-533614748283",
   "metadata": {},
   "outputs": [
    {
     "data": {
      "image/png": "[encoded data removed]",
      "text/plain": [
       "<IPython.core.display.Image object>"
      ]
     },
     "metadata": {},
     "output_type": "display_data"
    }
   ],
   "source": [
    "plot(serialday2000,maxT2000,'r-',serialday2000,minT2000,'b-',serialday2020,maxT2020,'r-',serialday2020,minT2020,'b-')"
   ]
  },
  {
   "cell_type": "markdown",
   "id": "3aa0d174-9f24-4510-a764-119e20a2f00a",
   "metadata": {},
   "source": [
    "This isn't quite what we want, however. What we want is to have both years on top of each other. We'll plot the days since Jan 1st in a given year. This way, both years will overlap, which is really what we want to be able to tell the difference between the two years."
   ]
  },
  {
   "cell_type": "code",
   "execution_count": 21,
   "id": "c3054938-f36d-47ca-a514-8739792efd51",
   "metadata": {},
   "outputs": [
    {
     "data": {
      "image/png": "[encoded data removed]",
      "text/plain": [
       "<IPython.core.display.Image object>"
      ]
     },
     "metadata": {},
     "output_type": "display_data"
    }
   ],
   "source": [
    "plot(serialday2000-serialday2000(1),maxT2000,'r-',serialday2000-serialday2000(1),minT2000,'b-',serialday2020-serialday2020(1),maxT2020,'r-',serialday2020-serialday2020(1),minT2020,'b-')"
   ]
  },
  {
   "cell_type": "markdown",
   "id": "fed571f7-1d68-463c-8799-107b4ab3ad46",
   "metadata": {},
   "source": [
    "This plot is not very legible. Let's look at just the daily highs first. We'll plot  as dots so we can start to see some kind of outline or envelope of possible temperatures for any given day."
   ]
  },
  {
   "cell_type": "code",
   "execution_count": 22,
   "id": "6aec7a36-6d4e-4753-b7ec-65597532364d",
   "metadata": {},
   "outputs": [
    {
     "data": {
      "image/png": "[encoded data removed]",
      "text/plain": [
       "<IPython.core.display.Image object>"
      ]
     },
     "metadata": {},
     "output_type": "display_data"
    }
   ],
   "source": [
    "plot(serialday2000-serialday2000(1),maxT2000,'r.',serialday2020-serialday2020(1),maxT2020,'r.')"
   ]
  },
  {
   "cell_type": "markdown",
   "id": "cb068dbb-f754-4636-9d4e-b6a72891ca62",
   "metadata": {},
   "source": [
    "And now for the daily low temperatures."
   ]
  },
  {
   "cell_type": "code",
   "execution_count": 23,
   "id": "85aa882b-8a31-4b43-95ca-c61d262ba1ce",
   "metadata": {},
   "outputs": [
    {
     "data": {
      "image/png": "[encoded data removed]",
      "text/plain": [
       "<IPython.core.display.Image object>"
      ]
     },
     "metadata": {},
     "output_type": "display_data"
    }
   ],
   "source": [
    "plot(serialday2000-serialday2000(1),minT2000,'b.',serialday2020-serialday2020(1),minT2020,'b.')"
   ]
  },
  {
   "cell_type": "markdown",
   "id": "f513f7a4-5f4c-41ff-9491-cf37b4ab3dde",
   "metadata": {},
   "source": [
    "We're starting to see an envelope emerge of, statistically, what temperatures could occur on a given day. Could we now do this for a lot more years? What we're interested in is to see the variation of temperatures, historically, throughout seasons, but move away from looking at just the average temperature. We want to see what is statistically likely to happen."
   ]
  },
  {
   "cell_type": "markdown",
   "id": "237be4e2-b348-4bad-809b-ede0b2716b28",
   "metadata": {},
   "source": [
    "**Question 1**: Look at the data extraction. The column numbers changed between the years 2000 and 2020 for the same data station and the same API call. Either:\n",
    "* there's something we didn't do correctly when using the API (user error);\n",
    "* there's something substandard about the data itself (poor data quality, non uniform structure);\n",
    "* or the API itself is ill-formed and doesn't guarantee the data structure when it is called.\n",
    "\n",
    "Can you figure out which the problem is? Do you know of a way to fix it? Maybe using the (more complicated) geoJSON file type would help."
   ]
  },
  {
   "cell_type": "markdown",
   "id": "6681f1fb-e9f6-4e21-94cf-c408896ff3cd",
   "metadata": {},
   "source": [
    "**Question 2**: I consistently plotted the high temperatures in red and the low temperatures in blue, even when there was only one type of temperature in a given plot. Why do you think that is? What is the advantage of using such a colour scheme?"
   ]
  },
  {
   "cell_type": "markdown",
   "id": "e1bfebfb-6434-402c-97ca-77008b5f6b07",
   "metadata": {},
   "source": [
    "**Question 3**: Create a function that downloads historical climate data for a given station, treats the data so it's useful and returns only what we want, in this case the daily highs and lows."
   ]
  },
  {
   "cell_type": "markdown",
   "id": "5c8ade80-78ba-4df6-9146-b39ad9e8501b",
   "metadata": {},
   "source": [
    "**Question 4**: Using your function, plot the envelope of possible high/low temperatures throughout the year for your favourite place in Canada. Add all the plotting elements that you think should be there so the plot is as clear, precise and legible as possible."
   ]
  },
  {
   "cell_type": "markdown",
   "id": "301cec55-6713-41e6-9d93-614297c7bf04",
   "metadata": {},
   "source": [
    "## **Bonus Questions**"
   ]
  },
  {
   "cell_type": "markdown",
   "id": "d43d2c3c-012a-48d8-a072-73a5a434c455",
   "metadata": {},
   "source": [
    "**Bonus 1**: Can you find the daily average temperature (the average of a day over several years, not the day's mean temperature) and compare it to the envelopes you computed. How misleading is it to look at the average temperature of a day to have an idea of how hot/cold a day should be. Do you think it makes sense for meteorologists on TV/radio programs to keep saying \"We are expecting a high that's x degrees above/below the normal average today.\" Is it useful? How do you think that influences people's moods?"
   ]
  },
  {
   "cell_type": "markdown",
   "id": "8b7bf3d1-f8b2-4769-ba3d-2a57b38a7700",
   "metadata": {},
   "source": [
    "**Bonus 2**: If you use all temperatures for a number of years, you are plotting the envelope of all the temperatures that occurred. What would be a better, statistically significant metric? How would you compute the envelope of the temperatures that would occur 95% of the time on a given day? What statistical tool /test could you use?"
   ]
  },
  {
   "cell_type": "markdown",
   "id": "247b2d19-d106-4163-8f71-d084a9be1307",
   "metadata": {},
   "source": [
    "**Bonus 3**: Using your answer from the *bonus 2* question, can you plot the 95% likelihood interval?"
   ]
  },
  {
   "cell_type": "markdown",
   "id": "172cdc81-2c5d-4319-a1bd-a589b3fcddf5",
   "metadata": {},
   "source": [
    "### Hints"
   ]
  },
  {
   "cell_type": "markdown",
   "id": "86d84bac-09fa-4286-ba3c-b0c0fe2158fe",
   "metadata": {},
   "source": [
    "**Hint**: to turn the script into a function, you may want to use the strcat() and num2str() functions. For example:"
   ]
  },
  {
   "cell_type": "code",
   "execution_count": 24,
   "id": "638b0106-e329-4e01-8ffe-f1d4d0298873",
   "metadata": {},
   "outputs": [
    {
     "name": "stdout",
     "output_type": "stream",
     "text": [
      "ans = https://api.weather.gc.ca/2015.html\n"
     ]
    }
   ],
   "source": [
    "strcat('https://api.weather.gc.ca/',num2str(2015),'.html')"
   ]
  },
  {
   "cell_type": "markdown",
   "id": "64920e3d-2b61-42b1-b70b-02c0272c072b",
   "metadata": {},
   "source": [
    "**Hint**: To request only certain properties, you can add the following part to the URL of the api:\n",
    "\n",
    "&properties=LOCAL_YEAR,LOCAL_MONTH,LOCAL_DAY,MAX_TEMPERATURE,MIN_TEMPERATURE\n",
    "\n",
    "~~As an added bonus, the columns will come out sorted in that order and not in a random order.~~ It appears the ordering is not kept. :( I made a function to extract the column headers for you since this is kind of an annoying thing to do and not the point of this assigment."
   ]
  },
  {
   "cell_type": "markdown",
   "id": "afd3c5f8-ae4a-4064-b18f-458e3409f79f",
   "metadata": {},
   "source": [
    "The documentation of the api with that information is here:\n",
    "https://api.weather.gc.ca/openapi?f=html#/climate-daily/getClimate-dailyFeatures"
   ]
  },
  {
   "cell_type": "markdown",
   "id": "e1708bd0-1a3b-478b-973a-ff5b31715eca",
   "metadata": {},
   "source": [
    "Compare the following two calls:"
   ]
  },
  {
   "cell_type": "code",
   "execution_count": 25,
   "id": "57fd897f-7547-45b5-b68b-3e8a22a706fd",
   "metadata": {},
   "outputs": [
    {
     "name": "stdout",
     "output_type": "stream",
     "text": [
      "data = x,y,MIN_REL_HUMIDITY,MIN_REL_HUMIDITY_FLAG,COOLING_DEGREE_DAYS_FLAG,HEATING_DEGREE_DAYS_FLAG,DIRECTION_MAX_GUST_FLAG,TOTAL_RAIN_FLAG,COOLING_DEGREE_DAYS,SNOW_ON_GROUND,TOTAL_SNOW_FLAG,STATION_NAME,LOCAL_DAY,MEAN_TEMPERATURE_FLAG,SPEED_MAX_GUST_FLAG,MAX_REL_HUMIDITY_FLAG,LOCAL_MONTH,MEAN_TEMPERATURE,TOTAL_PRECIPITATION,TOTAL_SNOW,MAX_TEMPERATURE,TOTAL_PRECIPITATION_FLAG,CLIMATE_IDENTIFIER,SPEED_MAX_GUST,LOCAL_DATE,MIN_TEMPERATURE_FLAG,MAX_TEMPERATURE_FLAG,LOCAL_YEAR,MAX_REL_HUMIDITY,ID,PROVINCE_CODE,SNOW_ON_GROUND_FLAG,DIRECTION_MAX_GUST,HEATING_DEGREE_DAYS,TOTAL_RAIN,MIN_TEMPERATURE\n",
      "-79.03416666666666,48.24583333333333,78,,,,,M,0,,M,ROUYN,1,,,,1,-9.8,3.6,,-4.4,,7086716,35,2000-01-01 00:00:00,,,2000,90,7086716.2000.1.1,QC,,28,27.8,,-15.2\n",
      "-79.03416666666666,48.24583333333333,77,,,,,M,0,,M,ROUYN,2,,,,1,-14.1,8.2,,-12.4,,7086716,41,2000-01-02 00:00:00,,,2000,84,7086716.2000.1.2,QC,,5,32.1,,-15.7\n",
      "-79.03416666666666,48.24583333333333,62,,,,,M,0,,M,ROUYN,3,,,,1,-16.5,0,,-12.3,,7086716,0,2000-01-03 00:00:00,,,2000,83,7086716.2000.1.3,QC,,0,34.5,,-20.7\n",
      "-79.03416666666666,48.24583333333333,71,,,,,M,0,,M,ROUYN,4,,,,1,-15.4,13.6,,-9.8,,7086716,63,2000-01-04 00:00:00,,,2000,87,7086716.2000.1.4,QC,,32,33.4,,-20.9\n",
      "-79.03416666666666,48.24583333333333,62,,,,,M,0,,M,ROUYN,5,,,,1,-19.6,0,,-14.2,,7086716,0,2000-01-05 00:00:00,,,2000,81,7086716.2000.1.5,QC,,0,37.6,,-24.9\n",
      "\n"
     ]
    }
   ],
   "source": [
    "data = urlread('https://api.weather.gc.ca/collections/climate-daily/items?datetime=2000-01-01%2000:00:00/2000-01-05%2000:00:00&STN_ID=10849&sortby=PROVINCE_CODE,STN_ID,LOCAL_DATE&f=csv&limit=150000&startindex=0')"
   ]
  },
  {
   "cell_type": "code",
   "execution_count": 26,
   "id": "286921b4-10eb-485e-a25f-0b10ac81a8e4",
   "metadata": {},
   "outputs": [
    {
     "name": "stdout",
     "output_type": "stream",
     "text": [
      "data = x,y,LOCAL_DAY,LOCAL_DATE,LOCAL_MONTH,LOCAL_YEAR,MEAN_TEMPERATURE,MAX_TEMPERATURE,MIN_TEMPERATURE\n",
      "-79.03416666666666,48.24583333333333,1,2000-01-01 00:00:00,1,2000,-9.8,-4.4,-15.2\n",
      "-79.03416666666666,48.24583333333333,2,2000-01-02 00:00:00,1,2000,-14.1,-12.4,-15.7\n",
      "-79.03416666666666,48.24583333333333,3,2000-01-03 00:00:00,1,2000,-16.5,-12.3,-20.7\n",
      "-79.03416666666666,48.24583333333333,4,2000-01-04 00:00:00,1,2000,-15.4,-9.8,-20.9\n",
      "-79.03416666666666,48.24583333333333,5,2000-01-05 00:00:00,1,2000,-19.6,-14.2,-24.9\n",
      "\n"
     ]
    }
   ],
   "source": [
    "data = urlread('https://api.weather.gc.ca/collections/climate-daily/items?datetime=2000-01-01%2000:00:00/2000-01-05%2000:00:00&STN_ID=10849&sortby=PROVINCE_CODE,STN_ID,LOCAL_DATE&properties=LOCAL_DATE,LOCAL_YEAR,LOCAL_MONTH,LOCAL_DAY,MAX_TEMPERATURE,MEAN_TEMPERATURE,MIN_TEMPERATURE&f=csv&limit=150000&startindex=0')"
   ]
  },
  {
   "cell_type": "code",
   "execution_count": null,
   "id": "00bea4ec-c304-4d53-b2c7-81a574f90c41",
   "metadata": {},
   "outputs": [],
   "source": []
  }
 ],
 "metadata": {
  "kernelspec": {
   "display_name": "Octave",
   "language": "octave",
   "name": "octave"
  },
  "language_info": {
   "file_extension": ".m",
   "help_links": [
    {
     "text": "GNU Octave",
     "url": "https://www.gnu.org/software/octave/support.html"
    },
    {
     "text": "Octave Kernel",
     "url": "https://github.com/Calysto/octave_kernel"
    },
    {
     "text": "MetaKernel Magics",
     "url": "https://metakernel.readthedocs.io/en/latest/source/README.html"
    }
   ],
   "mimetype": "text/x-octave",
   "name": "octave",
   "version": "8.2.0"
  }
 },
 "nbformat": 4,
 "nbformat_minor": 5
}
