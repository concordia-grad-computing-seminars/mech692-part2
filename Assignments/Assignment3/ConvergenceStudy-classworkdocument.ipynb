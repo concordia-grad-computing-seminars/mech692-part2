{
 "cells": [
  {
   "cell_type": "markdown",
   "id": "d856d325-3879-431f-ace1-2bc6565bcf4d",
   "metadata": {},
   "source": [
    "# Sensitivity Analysis and Grid Convergence"
   ]
  },
  {
   "cell_type": "markdown",
   "id": "8699b65e-1b18-4618-adf8-a242a138e761",
   "metadata": {},
   "source": [
    "We will use the CFD example from assignment 2 to look at the influence of the grid size and CFL number (or dt) on the error done in the solution. The different routines have been split-up in different functions and independent files:\n",
    "* grid.m: create grid vector, dx, ind, etc\n",
    "* BC_constant.m: update a vector with a constant boundary condition in ghost cells\n",
    "* BC_periodic.m: update a vector with a periodic boundary contiion using ghost cells\n",
    "* dt_march_11.m: step a specified number of time steps forward using 1st order space (backwards difference), 1st order time explicit scheme\n",
    "* dt_march_12.m: step a specified number of time steps forward using 2nd order space (centered difference), 1st order time explicit scheme\n",
    "* dt_march_22.m: step a specified number of time steps forward using a 2nd order space and time explicit scheme. This scheme is called the Lax-Wendroff scheme.\n"
   ]
  },
  {
   "cell_type": "markdown",
   "id": "4a8e1528-e382-4119-b57f-bac7acb73ce8",
   "metadata": {},
   "source": [
    "The application we built before to solve the one-way wave equation\n",
    "\n",
    "$\\frac{\\partial P}{\\partial t} + c \\frac{\\partial P}{\\partial x} = 0$\n",
    "\n",
    "now looks like the following:"
   ]
  },
  {
   "cell_type": "code",
   "execution_count": 16,
   "id": "f2240ca6-772e-4de7-bea2-f2d72db811ce",
   "metadata": {},
   "outputs": [
    {
     "name": "stdout",
     "output_type": "stream",
     "text": [
      "xL = 0\n",
      "xR = 5\n",
      "npts = 1200\n",
      "nghost = 1\n",
      "c = 1\n",
      "L = 5\n",
      "BC_update = @BC_periodic\n",
      "dt = 3.3333e-03\n",
      "nsteps = 1500\n",
      "AbsErr = 3.2845e-03\n"
     ]
    },
    {
     "data": {
      "image/png": "[encoded data removed]",
      "text/plain": [
       "<IPython.core.display.Image object>"
      ]
     },
     "metadata": {},
     "output_type": "display_data"
    }
   ],
   "source": [
    "xL = 0\n",
    "xR = 5\n",
    "npts = 1200\n",
    "nghost = 1\n",
    "c = 1\n",
    "L = xR-xL\n",
    "BC_update = @BC_periodic  %this is how we choose the boundary condition\n",
    "%BC_update = @BC_constant  %this would select the constant boundary condition\n",
    "\n",
    "[dx,ind,xi] = grid(xL,xR,npts,nghost);  %Generate the discretization a.k.a. the grid\n",
    "P0 = sin(2*pi*xi/(xR-xL));              %Calculate the initial condition\n",
    "P0 = BC_update(P0,nghost,0);\n",
    "t  = 0;\n",
    "CFL = 0.8;\n",
    "dt = CFL*dx/c\n",
    "plot(xi,P0,'o--')              %Plot the initial condition as a check\n",
    "\n",
    "nsteps = L/(c*dt)\n",
    "\n",
    "Pend = dt_march_11(P0,t,xi,dt,dx,c,npts,nghost,nsteps,BC_update);\n",
    "\n",
    "AbsErr = max(abs(Pend - P0))\n",
    "plot(xi,Pend,'o-')"
   ]
  },
  {
   "cell_type": "code",
   "execution_count": 14,
   "id": "7b1c0e89-c035-4b6f-b5eb-be86a9b92bde",
   "metadata": {},
   "outputs": [
    {
     "name": "stdout",
     "output_type": "stream",
     "text": [
      "ans = 1200\n",
      "n =\n",
      "\n",
      "   600   300   150    75\n",
      "\n",
      "E600 = 3.2703e-03\n",
      "E300 = 9.7854e-03\n",
      "E150 = 0.027876\n",
      "E75 = 0.067615\n",
      "err =\n",
      "\n",
      "   3.2703e-03   9.7854e-03   2.7876e-02   6.7615e-02\n",
      "\n",
      "ans =\n",
      "\n",
      "  -1.4620   1.5966\n",
      "\n"
     ]
    },
    {
     "data": {
      "image/png": "[encoded data removed]",
      "text/plain": [
       "<IPython.core.display.Image object>"
      ]
     },
     "metadata": {},
     "output_type": "display_data"
    }
   ],
   "source": [
    "1200\n",
    "n = [600,300,150,75]\n",
    "\n",
    "E600 = max(abs(P600(nghost+1:end-nghost) - interp1(x1200,P1200,x600(nghost+1:end-nghost))))\n",
    "E300 = max(abs(P300(nghost+1:end-nghost) - interp1(x1200,P1200,x300(nghost+1:end-nghost))))\n",
    "E150 = max(abs(P150(nghost+1:end-nghost) - interp1(x1200,P1200,x150(nghost+1:end-nghost))))\n",
    "E75  = max(abs(P75(nghost+1:end-nghost) - interp1(x1200,P1200,x75(nghost+1:end-nghost))))\n",
    "err = [E600,E300,E150,E75]\n",
    "loglog(n,err,'o')\n",
    "polyfit(log10(n),log10(err),1)"
   ]
  },
  {
   "cell_type": "code",
   "execution_count": 15,
   "id": "e3f2e0da-527c-40b0-a1a2-8928fec5e9e3",
   "metadata": {},
   "outputs": [
    {
     "name": "stdout",
     "output_type": "stream",
     "text": [
      "E1200 = 1.2392e-03\n"
     ]
    }
   ],
   "source": [
    "E1200 = E600*(600/1200)^1.4"
   ]
  },
  {
   "cell_type": "markdown",
   "id": "cf2636b9-7be8-4c5b-a8f7-68ed0c1da8fa",
   "metadata": {},
   "source": [
    "The above code was wrapped in a neat function (think of it like a mini-mini version of fluent, only for a single problem), CFDapp(@integrator_function, CFL, number of points). That function returns dx, dt and the absolute error of the solution. It doesn't plot the solution, however. You can use it in the following way:"
   ]
  },
  {
   "cell_type": "code",
   "execution_count": 93,
   "id": "2120fb6d-82ea-45fb-a7b1-cd3b09e7d73e",
   "metadata": {},
   "outputs": [
    {
     "name": "stdout",
     "output_type": "stream",
     "text": [
      "dx = 0.050000\n",
      "dt = 5.0000e-03\n",
      "AbsErr = 0.1627\n"
     ]
    }
   ],
   "source": [
    "[dx,dt,AbsErr] = CFDapp(@dt_march_11,0.1,100)"
   ]
  },
  {
   "cell_type": "markdown",
   "id": "15ac088a-de29-4a44-8d12-10cc287738ca",
   "metadata": {},
   "source": [
    "You can move between solvers easily by changing the name of the function (either dt_march_11, dt_march_12 or dt_march 22).\n",
    "\n",
    "The question now is \"**How much error are we making and how do we pick the parameters dt and dx?**\""
   ]
  },
  {
   "cell_type": "markdown",
   "id": "88704928-1e47-4ae9-bafe-4416fad3b753",
   "metadata": {},
   "source": [
    "# Exercises"
   ]
  },
  {
   "cell_type": "markdown",
   "id": "0759c647-6a11-4eed-b700-d497cf3d2387",
   "metadata": {},
   "source": [
    "## Exercise 1: Grid convergence Study for the dt_march_11\n",
    "\n",
    "\n",
    "Run the 1st order (backwards difference) space and 1st order time solver (a.k.a. the function dt_march_11) repeatedly with different number of points. I suggest 10,50,100,500,600. Don't go too far above 600 or I think we might kill the server. You can use a constant value of CFL = 0.1. Record the absolute error and plot error vs Npts."
   ]
  },
  {
   "cell_type": "code",
   "execution_count": 131,
   "id": "e1ea1b8a-836f-4660-b916-68b444ed247a",
   "metadata": {},
   "outputs": [
    {
     "name": "stdout",
     "output_type": "stream",
     "text": [
      "nptvec = 10\n",
      "dxvec = 0.5000\n",
      "dtvec = 0.050000\n",
      "Errvec = 0.8337\n"
     ]
    }
   ],
   "source": [
    "nptvec = [10]\n",
    "Errvec = 0*nptvec;\n",
    "dxvec  = 0*nptvec;\n",
    "dtvec  = 0*nptvec;\n",
    "for i = 1:length(nptvec)\n",
    "  [dx,dt,AbsErr] = CFDapp(@dt_march_11, 0.1, nptvec(i));\n",
    "  Errvec(i) = AbsErr;\n",
    "  dxvec(i)  = dx;\n",
    "  dtvec(i)  = dt;\n",
    "end\n",
    "dxvec\n",
    "dtvec\n",
    "Errvec"
   ]
  },
  {
   "cell_type": "code",
   "execution_count": 132,
   "id": "d9fe87ec-79af-472c-adc4-3b72cc828f80",
   "metadata": {},
   "outputs": [
    {
     "data": {
      "image/png": "[encoded data removed]",
      "text/plain": [
       "<IPython.core.display.Image object>"
      ]
     },
     "metadata": {},
     "output_type": "display_data"
    }
   ],
   "source": [
    "plot(nptvec,Errvec,'o-')"
   ]
  },
  {
   "cell_type": "markdown",
   "id": "86a9380a-4ed7-4a2f-a51c-4a96c57c93f4",
   "metadata": {},
   "source": [
    "The error is related to the grid spacing usually along the lines of \n",
    "\n",
    "$E \\sim (dx)^n$\n",
    "\n",
    "or, since $dx \\sim 1/N_\\mathrm{pts}$,\n",
    "\n",
    "$E \\sim (N_\\mathrm{pts})^{-n}$.\n",
    "\n",
    "The number $n$ is called the order of convergence. You can see it, visually, if you plot in the log-log space. Indeed, taking the log of both sides, you have\n",
    "\n",
    "$log(E) \\sim -n log(N_\\mathrm{pts})$.\n",
    "\n",
    "In a log-log plot, the slope of the straight portion of the graph is thus the order of convergence. Use the function loglog() to plot the error against the number of points."
   ]
  },
  {
   "cell_type": "code",
   "execution_count": 133,
   "id": "8888446f-c6b6-46bc-9b3a-6b90b6733e42",
   "metadata": {},
   "outputs": [
    {
     "name": "stdout",
     "output_type": "stream",
     "text": [
      "logN = 1\n",
      "logerr = -0.078972\n"
     ]
    },
    {
     "data": {
      "image/png": "[encoded data removed]",
      "text/plain": [
       "<IPython.core.display.Image object>"
      ]
     },
     "metadata": {},
     "output_type": "display_data"
    }
   ],
   "source": [
    "logN   = log10(nptvec)\n",
    "logerr = log10(Errvec)\n",
    "loglog(logN,logerr,'o-')"
   ]
  },
  {
   "cell_type": "markdown",
   "id": "2de830c9-4560-44dc-982c-06b5f98fd951",
   "metadata": {},
   "source": [
    "You can use the function polyfit to find the slope of the best fit straight line.polyfit(logN, logerr,1)"
   ]
  },
  {
   "cell_type": "code",
   "execution_count": 134,
   "id": "58499950-8b62-4095-a8f1-2f6584a3fffc",
   "metadata": {},
   "outputs": [
    {
     "name": "stdout",
     "output_type": "stream",
     "text": [
      "warning: polyfit: degree of polynomial N is >= number of data points; solution is not unique\n",
      "warning: called from\n",
      "    polyfit at line 142 column 5\n",
      "\n",
      "ans =\n",
      "\n",
      "          0  -0.078972\n",
      "\n"
     ]
    }
   ],
   "source": [
    "polyfit(logN, logerr,1)"
   ]
  },
  {
   "cell_type": "markdown",
   "id": "e5f643c6-7ff2-456d-a443-f9e1e3e3a016",
   "metadata": {},
   "source": [
    "Write your answer here:\n",
    "\n",
    "**The order of convergence for the 1st order in time, 1st order in space (backwards) algorithm is .....**"
   ]
  },
  {
   "cell_type": "markdown",
   "id": "5cb8c4ed-1349-4859-bfd9-bdcf459c9e85",
   "metadata": {},
   "source": [
    "## Exercise 2: Repeat for dt_march_12 and dt_march_22\n",
    "\n",
    "Repeat the process for the other 2 algorithms provided and the same CFL number? Plot all 3 curves (1 for each algorithm) on the same log-log plot). Depending on your choice of CFL and Npts, some solutions (especially for dt_march_12) might blow up. only take the error points from the straight, diminishing portion of the error curve to calculate the order of the error."
   ]
  },
  {
   "cell_type": "code",
   "execution_count": 135,
   "id": "e2501923-5684-4a17-aab3-30730fad5563",
   "metadata": {},
   "outputs": [
    {
     "name": "stdout",
     "output_type": "stream",
     "text": [
      "\n"
     ]
    },
    {
     "name": "stderr",
     "output_type": "stream",
     "text": [
      "\u001b[0;31mContinuation prompt found - input was incomplete:\n",
      "... insert code here...\n",
      "\u001b[0m"
     ]
    }
   ],
   "source": [
    "... insert code here..."
   ]
  },
  {
   "cell_type": "code",
   "execution_count": 136,
   "id": "b49b50ea-ec69-4f8f-bbc2-44673430170b",
   "metadata": {},
   "outputs": [
    {
     "name": "stdout",
     "output_type": "stream",
     "text": [
      "\n"
     ]
    },
    {
     "name": "stderr",
     "output_type": "stream",
     "text": [
      "\u001b[0;31mContinuation prompt found - input was incomplete:\n",
      "... insert code here ...\n",
      "\u001b[0m"
     ]
    }
   ],
   "source": [
    "... insert code here ..."
   ]
  },
  {
   "cell_type": "markdown",
   "id": "d33cc284-1fa8-47c5-a2eb-0a0ef7bab9a1",
   "metadata": {},
   "source": [
    "Write your answer here:\n",
    "\n",
    "**The order of convergence for each method is:**\n",
    "* n_11 = ...\n",
    "* n_12 = ...\n",
    "* n_22 = ...\n"
   ]
  },
  {
   "cell_type": "markdown",
   "id": "153552a5-b466-4ea4-99c1-3f97698d7c71",
   "metadata": {},
   "source": [
    "## Exercise 3: Redo for CFL = 0.8 and describe results\n",
    "\n",
    "If you run the problems for CFL = 0.8 instead of CFL = 0.1. Describe what happens.\n",
    "\n",
    "**Write your description here:**\n",
    "\n",
    "With CFL=0.8, the ......... . This is in contrast to ............ ."
   ]
  },
  {
   "cell_type": "code",
   "execution_count": 137,
   "id": "5bf1d2a4-4812-403e-8b7f-594352b481ce",
   "metadata": {},
   "outputs": [
    {
     "name": "stdout",
     "output_type": "stream",
     "text": [
      "\n"
     ]
    },
    {
     "name": "stderr",
     "output_type": "stream",
     "text": [
      "\u001b[0;31mContinuation prompt found - input was incomplete:\n",
      "... insert code here...\n",
      "\u001b[0m"
     ]
    }
   ],
   "source": [
    "... insert code here..."
   ]
  },
  {
   "cell_type": "code",
   "execution_count": 138,
   "id": "4b32ee1f-d405-4c03-bf7e-7892573fd04e",
   "metadata": {},
   "outputs": [
    {
     "name": "stdout",
     "output_type": "stream",
     "text": [
      "\n"
     ]
    },
    {
     "name": "stderr",
     "output_type": "stream",
     "text": [
      "\u001b[0;31mContinuation prompt found - input was incomplete:\n",
      "... insert code here...\n",
      "\u001b[0m"
     ]
    }
   ],
   "source": [
    "... insert code here..."
   ]
  },
  {
   "cell_type": "markdown",
   "id": "f3bebcc2-3c09-48e0-9ece-ef0b9d425d00",
   "metadata": {},
   "source": [
    "## (Bonus) Exercise 4: What about CFL?\n",
    "\n",
    "If you keep the number of points constant but vary CFL instead, you will see a different behaviour. Using 1 of the 3 methods, keep npts = 200 and vary CFL (but never exceed 1). Try to describe what you see.\n",
    "\n",
    "**Put your description here:**\n",
    "\n",
    "Wow! What happens is ................."
   ]
  },
  {
   "cell_type": "code",
   "execution_count": 139,
   "id": "af664138-8213-427b-85cd-b6389d3a070d",
   "metadata": {},
   "outputs": [
    {
     "name": "stdout",
     "output_type": "stream",
     "text": [
      "\n"
     ]
    },
    {
     "name": "stderr",
     "output_type": "stream",
     "text": [
      "\u001b[0;31mContinuation prompt found - input was incomplete:\n",
      "... insert code here...\n",
      "\u001b[0m"
     ]
    }
   ],
   "source": [
    "... insert code here..."
   ]
  },
  {
   "cell_type": "code",
   "execution_count": null,
   "id": "c5b647a7-fc59-4e1f-b4fa-df10ca1bebfa",
   "metadata": {},
   "outputs": [],
   "source": []
  }
 ],
 "metadata": {
  "kernelspec": {
   "display_name": "Octave",
   "language": "octave",
   "name": "octave"
  },
  "language_info": {
   "file_extension": ".m",
   "help_links": [
    {
     "text": "GNU Octave",
     "url": "https://www.gnu.org/software/octave/support.html"
    },
    {
     "text": "Octave Kernel",
     "url": "https://github.com/Calysto/octave_kernel"
    },
    {
     "text": "MetaKernel Magics",
     "url": "https://metakernel.readthedocs.io/en/latest/source/README.html"
    }
   ],
   "mimetype": "text/x-octave",
   "name": "octave",
   "version": "8.2.0"
  }
 },
 "nbformat": 4,
 "nbformat_minor": 5
}
