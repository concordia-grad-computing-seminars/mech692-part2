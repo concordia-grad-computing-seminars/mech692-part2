{
 "cells": [
  {
   "cell_type": "markdown",
   "id": "d856d325-3879-431f-ace1-2bc6565bcf4d",
   "metadata": {},
   "source": [
    "# A First Computational Fluid Dynamic Simulation"
   ]
  },
  {
   "cell_type": "markdown",
   "id": "8699b65e-1b18-4618-adf8-a242a138e761",
   "metadata": {},
   "source": [
    "There are many parts to a CFD application.\n",
    "* Know/Decide what mathematical system I want to solve, i.e. I want to define the mathematical equation I'm trying to approximate;\n",
    "* Domain (a.k.a. grid): the area of space that we're solving the equations over (plus any boundary space, represented by ghost cells).\n",
    "\n",
    "There's more, but let's start by examining those two."
   ]
  },
  {
   "cell_type": "markdown",
   "id": "4a8e1528-e382-4119-b57f-bac7acb73ce8",
   "metadata": {},
   "source": [
    "We'll build a first application that calculates a wave propagating in a one dimensional domain. The basic system we will solve is what's called the 1-way (linear) wave equation, which has the basic features of flow/information propagation:\n",
    "\n",
    "$\\frac{\\partial P}{\\partial t} + c \\frac{\\partial P}{\\partial x} = 0$"
   ]
  },
  {
   "cell_type": "markdown",
   "id": "0aa08288-66e8-4092-87c4-6b6420b30f8a",
   "metadata": {},
   "source": [
    "## Domain: the location of points that will be computed"
   ]
  },
  {
   "cell_type": "markdown",
   "id": "8cd4f9f1-165c-4b32-9cda-ca28ee6f598d",
   "metadata": {},
   "source": [
    "We will define a grid of 5 evenly spaced points between $x_L=0$ and $x_R=5$ as an example."
   ]
  },
  {
   "cell_type": "code",
   "execution_count": 113,
   "id": "4d3cd8cf-4f2b-4af3-bb60-b44013eceab8",
   "metadata": {},
   "outputs": [
    {
     "name": "stdout",
     "output_type": "stream",
     "text": [
      "xL = 0\n",
      "xR = 5\n",
      "npts = 5\n",
      "nghost = 2\n"
     ]
    }
   ],
   "source": [
    "xL   = 0\n",
    "xR   = 5\n",
    "npts = 5\n",
    "nghost = 2"
   ]
  },
  {
   "cell_type": "markdown",
   "id": "f5919d5f-0817-4400-b405-631a61a9d39c",
   "metadata": {},
   "source": [
    "We have to calculate some important properties:\n",
    "* spacing between 2 points, $dx$: in the variable dx,\n",
    "* position of each point, $x_i$: in the variable xi = [x_1, x_2, x_3, ... x_5]."
   ]
  },
  {
   "cell_type": "code",
   "execution_count": 114,
   "id": "10bd48bb-1ebb-49f3-864c-156d69a0809f",
   "metadata": {},
   "outputs": [
    {
     "name": "stdout",
     "output_type": "stream",
     "text": [
      "dx = 1\n",
      "ind =\n",
      "\n",
      "  -1   0   1   2   3   4   5   6   7\n",
      "\n",
      "xi =\n",
      "\n",
      " Columns 1 through 8:\n",
      "\n",
      "  -1.5000  -0.5000   0.5000   1.5000   2.5000   3.5000   4.5000   5.5000\n",
      "\n",
      " Column 9:\n",
      "\n",
      "   6.5000\n",
      "\n"
     ]
    }
   ],
   "source": [
    "dx  = (xR-xL)/npts\n",
    "ind = 1-nghost:npts+nghost\n",
    "xi = (ind-1)*dx+dx/2"
   ]
  },
  {
   "cell_type": "markdown",
   "id": "ff61c5a6-194e-4a9a-9f08-a92baa760e3b",
   "metadata": {},
   "source": [
    "Let's turn this process into a function that takes, as inputs:\n",
    "* left domain boundary, xL\n",
    "* right domain boundary, xR\n",
    "* number of points, npts\n",
    "\n",
    "and returns\n",
    "* grid size, dx\n",
    "* location of points, xi\n",
    "* vector of indices\n",
    "\n",
    "(This function is basically the ***mesher*** of a proper CFD package!)"
   ]
  },
  {
   "cell_type": "code",
   "execution_count": 115,
   "id": "55dcd3c8-6fcd-4f85-ae69-6b9fe162f27a",
   "metadata": {},
   "outputs": [
    {
     "name": "stdout",
     "output_type": "stream",
     "text": [
      "dx = 1\n",
      "ind =\n",
      "\n",
      "  -1   0   1   2   3   4   5   6   7\n",
      "\n",
      "xi =\n",
      "\n",
      " Columns 1 through 8:\n",
      "\n",
      "  -1.5000  -0.5000   0.5000   1.5000   2.5000   3.5000   4.5000   5.5000\n",
      "\n",
      " Column 9:\n",
      "\n",
      "   6.5000\n",
      "\n"
     ]
    }
   ],
   "source": [
    "function [dx,ind,xi] = grid(xL,xR,npts,nghost)\n",
    "  dx  = (xR-xL)/npts;\n",
    "  ind = 1-nghost:npts+nghost;\n",
    "  xi  = (ind-1)*dx + dx/2;\n",
    "end\n",
    "\n",
    "[dx,ind,xi] = grid(0,5,5,2)"
   ]
  },
  {
   "cell_type": "markdown",
   "id": "3d98f347-d6e9-4dbb-94d1-21f5d850a117",
   "metadata": {},
   "source": [
    "What are some of the other parts of a CFD application? Here's two more:\n",
    "* Initial Condition\n",
    "* Boundary Condition(s)"
   ]
  },
  {
   "cell_type": "markdown",
   "id": "fcebf9e6-96a7-4570-b324-3e9a1e2f3534",
   "metadata": {},
   "source": [
    "## Initial Conditions"
   ]
  },
  {
   "cell_type": "markdown",
   "id": "94c88e75-bfae-49cf-9847-06f85f60b38e",
   "metadata": {},
   "source": [
    "Let's use a sine wave as our first try. 'P(x,t=0) = sin(x)'"
   ]
  },
  {
   "cell_type": "code",
   "execution_count": 134,
   "id": "f2240ca6-772e-4de7-bea2-f2d72db811ce",
   "metadata": {},
   "outputs": [
    {
     "data": {
      "image/png": "[encoded data removed]",
      "text/plain": [
       "<IPython.core.display.Image object>"
      ]
     },
     "metadata": {},
     "output_type": "display_data"
    }
   ],
   "source": [
    "xL = 0; xR = 5; npts = 5; nghost = 2;\n",
    "[dx,ind,xi] = grid(xL,xR,npts,nghost);  %Generate the discretization a.k.a. the grid\n",
    "P0 = sin(xi);                  %Calculate the initial condition\n",
    "plot(xi,P0,'o--')              %Plot the initial condition as a check"
   ]
  },
  {
   "cell_type": "markdown",
   "id": "cd73f356-c963-4d2d-9178-073f30f028cf",
   "metadata": {},
   "source": [
    "## Boundary Conditions"
   ]
  },
  {
   "cell_type": "markdown",
   "id": "36f4d802-e5b6-4e97-8e24-0e5675bd9256",
   "metadata": {},
   "source": [
    "What happens at the boundary. We will use a periodic boundary for simplicity."
   ]
  },
  {
   "cell_type": "code",
   "execution_count": 136,
   "id": "7b349363-c029-4f52-a850-820cf907fc9a",
   "metadata": {},
   "outputs": [
    {
     "name": "stdout",
     "output_type": "stream",
     "text": [
      "P1 =\n",
      "\n",
      " Columns 1 through 8:\n",
      "\n",
      "        0        0   0.4794   0.9975   0.5985  -0.3508  -0.9775        0\n",
      "\n",
      " Column 9:\n",
      "\n",
      "        0\n",
      "\n"
     ]
    },
    {
     "data": {
      "image/png": "[encoded data removed]",
      "text/plain": [
       "<IPython.core.display.Image object>"
      ]
     },
     "metadata": {},
     "output_type": "display_data"
    }
   ],
   "source": [
    "function [Pout] = update_boundary_condition(Pin,nghost,condition, value)\n",
    "  Pout = Pin;\n",
    "  switch (condition)\n",
    "    case \"periodic\"\n",
    "      for i = 1:nghost\n",
    "        disp('periodic chosen')\n",
    "      end\n",
    "    case \"constant\"\n",
    "      for i = 1:nghost\n",
    "        Pout(i) = value;\n",
    "        Pout(end-(i-1)) = value;\n",
    "      end\n",
    "    end\n",
    "end\n",
    "\n",
    "P1 = update_boundary_condition(P0,nghost,'constant',0)\n",
    "plot(xi,P0,'o--b',xi,P1,'o-r')"
   ]
  },
  {
   "cell_type": "markdown",
   "id": "0466482a-cee0-4b8b-99ef-e11fee588b37",
   "metadata": {},
   "source": [
    "## Time-update: marching forwards in time"
   ]
  },
  {
   "cell_type": "markdown",
   "id": "189d4f78-35fe-402c-9291-e5f059b168ff",
   "metadata": {},
   "source": [
    "How to compute the next time step based on the current value."
   ]
  },
  {
   "cell_type": "code",
   "execution_count": 35,
   "id": "0845d37d-51d4-456e-bb18-23caec2e6cd1",
   "metadata": {},
   "outputs": [
    {
     "name": "stdout",
     "output_type": "stream",
     "text": [
      "z = 2\n"
     ]
    }
   ],
   "source": [
    "z = 2"
   ]
  },
  {
   "cell_type": "markdown",
   "id": "352407d1-03d2-4e02-82f7-ea6204493c7d",
   "metadata": {},
   "source": [
    "## Putting it all together: our first application"
   ]
  },
  {
   "cell_type": "markdown",
   "id": "e9055a90-693f-4cfa-8968-a04616e19498",
   "metadata": {},
   "source": [
    "1. Define the problem parameters\n",
    "2. Compute the grid\n",
    "3. Compute initial condition\n",
    "4. Apply boundary Conditions\n",
    "5. March forward one step\n",
    "6. Go back to step 4. "
   ]
  }
 ],
 "metadata": {
  "kernelspec": {
   "display_name": "Octave",
   "language": "octave",
   "name": "octave"
  },
  "language_info": {
   "file_extension": ".m",
   "help_links": [
    {
     "text": "GNU Octave",
     "url": "https://www.gnu.org/software/octave/support.html"
    },
    {
     "text": "Octave Kernel",
     "url": "https://github.com/Calysto/octave_kernel"
    },
    {
     "text": "MetaKernel Magics",
     "url": "https://metakernel.readthedocs.io/en/latest/source/README.html"
    }
   ],
   "mimetype": "text/x-octave",
   "name": "octave",
   "version": "8.2.0"
  }
 },
 "nbformat": 4,
 "nbformat_minor": 5
}
