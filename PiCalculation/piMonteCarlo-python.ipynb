{
 "cells": [
  {
   "cell_type": "markdown",
   "id": "2014ab99-58b0-493a-89b4-bec82d14802a",
   "metadata": {},
   "source": [
    "# Calculating the value of Pi with a Monte Carlo method (python)\n",
    "\n",
    "The method is:\n",
    "* Calculate a number of random points, npts;\n",
    "* Check if each point is inside or outside the circle;\n",
    "* Count how many points are inside the circle;\n",
    "* The value of Pi = 4* (points inside / points total).\n",
    "\n",
    "# DO NOT USE NPTS GREATER THAN 1E6 (1000000, 1 MILLION). WE DON'T WANT TO CRASH THE SERVER.\n",
    "# THE ONLY WAY TO FAIL THE CLASS IS TO CRASH THE SERVER MORE THAN ONCE."
   ]
  },
  {
   "cell_type": "code",
   "execution_count": 157,
   "id": "d7a78cd4-1dc8-4e36-b9cc-ae66ee0d628e",
   "metadata": {},
   "outputs": [],
   "source": [
    "import numpy as np\n",
    "import matplotlib.pyplot as plt\n",
    "npts = 1000000\n",
    "c_x = 0.5\n",
    "c_y = 0.5"
   ]
  },
  {
   "cell_type": "code",
   "execution_count": 158,
   "id": "ef9df911-50b1-4882-845f-f7a9308db3a5",
   "metadata": {},
   "outputs": [],
   "source": [
    "n_x = np.random.rand(npts)\n",
    "n_y = np.random.rand(npts)"
   ]
  },
  {
   "cell_type": "code",
   "execution_count": 159,
   "id": "899ece4c-6f3a-4425-a0aa-ca00c6238f2f",
   "metadata": {},
   "outputs": [
    {
     "data": {
      "text/plain": [
       "array([0.20326285, 0.42344111, 0.58892868, ..., 0.8742094 , 0.50062683,\n",
       "       0.16743345])"
      ]
     },
     "execution_count": 159,
     "metadata": {},
     "output_type": "execute_result"
    }
   ],
   "source": [
    "n_x"
   ]
  },
  {
   "cell_type": "code",
   "execution_count": 160,
   "id": "1eb92e7b-a986-4dc9-b926-0d422c198447",
   "metadata": {},
   "outputs": [
    {
     "data": {
      "text/plain": [
       "array([0.30028909, 0.68631754, 0.32625765, ..., 0.67721623, 0.48163758,\n",
       "       0.63604874])"
      ]
     },
     "execution_count": 160,
     "metadata": {},
     "output_type": "execute_result"
    }
   ],
   "source": [
    "n_y"
   ]
  },
  {
   "cell_type": "code",
   "execution_count": 161,
   "id": "f01b9fa1-a90b-4f15-b7aa-b741c829f558",
   "metadata": {},
   "outputs": [],
   "source": [
    "n_r = np.sqrt( (n_x-c_x)**2 + (n_y-c_y)**2)"
   ]
  },
  {
   "cell_type": "code",
   "execution_count": 162,
   "id": "71ef0dc3-02de-4e10-bb28-c73e747270cb",
   "metadata": {},
   "outputs": [
    {
     "data": {
      "text/plain": [
       "array([0.35768336, 0.20143359, 0.19517867, ..., 0.41405105, 0.01837312,\n",
       "       0.35931848])"
      ]
     },
     "execution_count": 162,
     "metadata": {},
     "output_type": "execute_result"
    }
   ],
   "source": [
    "n_r"
   ]
  },
  {
   "cell_type": "code",
   "execution_count": 164,
   "id": "93d6ca6a-700d-4f19-affd-842a91c2b657",
   "metadata": {},
   "outputs": [],
   "source": [
    "n_loc = n_r<0.5"
   ]
  },
  {
   "cell_type": "code",
   "execution_count": 165,
   "id": "709bd1ba-d385-4b20-8481-029dd504beae",
   "metadata": {},
   "outputs": [
    {
     "data": {
      "text/plain": [
       "array([ True,  True,  True, ...,  True,  True,  True])"
      ]
     },
     "execution_count": 165,
     "metadata": {},
     "output_type": "execute_result"
    }
   ],
   "source": [
    "n_loc"
   ]
  },
  {
   "cell_type": "code",
   "execution_count": 166,
   "id": "24284f03-2fc0-41a3-a005-9a1a8de011d1",
   "metadata": {},
   "outputs": [
    {
     "data": {
      "text/plain": [
       "np.int64(785489)"
      ]
     },
     "execution_count": 166,
     "metadata": {},
     "output_type": "execute_result"
    }
   ],
   "source": [
    "sum(n_loc)"
   ]
  },
  {
   "cell_type": "code",
   "execution_count": 167,
   "id": "ebcede87-9b15-44be-bbe1-85b3eb72ec1c",
   "metadata": {},
   "outputs": [],
   "source": [
    "value = 4*sum(n_loc)/npts"
   ]
  },
  {
   "cell_type": "code",
   "execution_count": 168,
   "id": "8279427c-b6e0-47c9-9f85-7fccbec1bf45",
   "metadata": {},
   "outputs": [
    {
     "data": {
      "text/plain": [
       "np.float64(3.141956)"
      ]
     },
     "execution_count": 168,
     "metadata": {},
     "output_type": "execute_result"
    }
   ],
   "source": [
    "value"
   ]
  },
  {
   "cell_type": "code",
   "execution_count": 169,
   "id": "9a7d64bd-02c4-4e91-949d-0086f82998da",
   "metadata": {},
   "outputs": [],
   "source": [
    "error = (np.pi - value)/np.pi"
   ]
  },
  {
   "cell_type": "code",
   "execution_count": 170,
   "id": "197b23e0-7463-4b39-8ce5-1ffb69bef4d7",
   "metadata": {},
   "outputs": [
    {
     "data": {
      "text/plain": [
       "np.float64(-0.011565675447823297)"
      ]
     },
     "execution_count": 170,
     "metadata": {},
     "output_type": "execute_result"
    }
   ],
   "source": [
    "error*100"
   ]
  },
  {
   "cell_type": "code",
   "execution_count": 180,
   "id": "50167398-332b-4698-b3b3-933a877bafef",
   "metadata": {},
   "outputs": [
    {
     "data": {
      "text/plain": [
       "[<matplotlib.lines.Line2D at 0x7fd87df60a90>,\n",
       " <matplotlib.lines.Line2D at 0x7fd87df769a0>]"
      ]
     },
     "execution_count": 180,
     "metadata": {},
     "output_type": "execute_result"
    },
    {
     "data": {
      "image/png": "[encoded data removed]",
      "text/plain": [
       "<Figure size 640x480 with 1 Axes>"
      ]
     },
     "metadata": {},
     "output_type": "display_data"
    }
   ],
   "source": [
    "plt.plot(n_loc*n_x, n_loc*n_y,'b.', (1-n_loc)*n_x, (1-n_loc)*n_y, 'r.')"
   ]
  },
  {
   "cell_type": "code",
   "execution_count": null,
   "id": "a2829bf2-95bb-4dff-9a9c-e42efb2ce439",
   "metadata": {},
   "outputs": [],
   "source": []
  }
 ],
 "metadata": {
  "kernelspec": {
   "display_name": "Python 3 (ipykernel)",
   "language": "python",
   "name": "python3"
  },
  "language_info": {
   "codemirror_mode": {
    "name": "ipython",
    "version": 3
   },
   "file_extension": ".py",
   "mimetype": "text/x-python",
   "name": "python",
   "nbconvert_exporter": "python",
   "pygments_lexer": "ipython3",
   "version": "3.9.12"
  }
 },
 "nbformat": 4,
 "nbformat_minor": 5
}
